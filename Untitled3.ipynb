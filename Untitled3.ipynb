{
 "cells": [
  {
   "cell_type": "code",
   "execution_count": 5,
   "metadata": {},
   "outputs": [],
   "source": [
    "import time\n",
    "import sys\n",
    "import tensorflow as tf\n",
    "import numpy as np\n",
    "from tqdm import tqdm\n",
    "import rnn_crbm\n",
    "import input_manipulation\n",
    "\n",
    "\"\"\"\n",
    "    This file contains the code for training the RNN-RBM by using the data in the Pop_Music_Midi directory\n",
    "\"\"\"\n",
    "\n",
    "\n",
    "batch_size = 100 #The number of trianing examples to feed into the rnn_rbm at a time\n",
    "epochs_to_save = 5 #The number of epochs to run between saving each checkpoint\n",
    "saved_weights_path = \"parameter_checkpoints/initialized.ckpt\" #The path to the initialized weights checkpoint file\n",
    "num_epochs = 10\n",
    "#First, we build the model and get pointers to the model parameters\n",
    "xt, utm1, cost, W, bh, bv, lr, Wuh, Wuv, Wvu, Wuu, bu, u0 = rnn_crbm.rnncrbm()\n",
    "\n",
    "#The trainable variables include the weights and biases of the RNN and the RBM, as well as the initial state of the RNN\n",
    "tvars = [W, Wuh, Wuv, Wvu, Wuu, bh, bv, bu]\n",
    "# opt_func = tf.train.AdamOptimizer(learning_rate=lr)\n",
    "# grads, _ = tf.clip_by_global_norm(tf.gradients(cost, tvars), 1)\n",
    "# updt = opt_func.apply_gradients(zip(grads, tvars))\n",
    "\n",
    "#The learning rate of the  optimizer is a parameter that we set on a schedule during training\n",
    "opt_func = tf.train.GradientDescentOptimizer(learning_rate=lr)\n",
    "gvs = opt_func.compute_gradients(cost, tvars)\n",
    "\n",
    "def ClipIfNotNone(grad):\n",
    "    if grad is None:\n",
    "        return grad\n",
    "    return tf.clip_by_value(grad, -10., 10.)\n",
    "\n",
    "gvs = [(ClipIfNotNone(grad), var) for grad, var in gvs] #We use gradient clipping to prevent gradients from blowing up during training\n",
    "updt = opt_func.apply_gradients(gvs)#The update step involves applying the clipped gradients to the model parameters\n"
   ]
  },
  {
   "cell_type": "code",
   "execution_count": 2,
   "metadata": {},
   "outputs": [
    {
     "data": {
      "text/plain": [
       "[(<tf.Tensor 'gradients/AddN_3:0' shape=(4, 123, 1, 8) dtype=float32>,\n",
       "  <tf.Variable 'W:0' shape=(4, 123, 1, 8) dtype=float32_ref>),\n",
       " (<tf.Tensor 'gradients/MatMul_1_grad/tuple/control_dependency_1:0' shape=(100, 120) dtype=float32>,\n",
       "  <tf.Variable 'Wuh:0' shape=(100, 120) dtype=float32_ref>),\n",
       " (<tf.Tensor 'gradients/MatMul_grad/tuple/control_dependency_1:0' shape=(100, 3936) dtype=float32>,\n",
       "  <tf.Variable 'Wuv:0' shape=(100, 3936) dtype=float32_ref>),\n",
       " (None, <tf.Variable 'Wvu:0' shape=(3936, 100) dtype=float32_ref>),\n",
       " (None, <tf.Variable 'Wuu:0' shape=(100, 100) dtype=float32_ref>),\n",
       " (<tf.Tensor 'gradients/Reshape_2_grad/Reshape:0' shape=(15, 8) dtype=float32>,\n",
       "  <tf.Variable 'bh:0' shape=(15, 8) dtype=float32_ref>),\n",
       " (<tf.Tensor 'gradients/Reshape_grad/Reshape:0' shape=(32, 123) dtype=float32>,\n",
       "  <tf.Variable 'bv:0' shape=(32, 123) dtype=float32_ref>),\n",
       " (None, <tf.Variable 'bu:0' shape=(1, 100) dtype=float32_ref>)]"
      ]
     },
     "execution_count": 2,
     "metadata": {},
     "output_type": "execute_result"
    }
   ],
   "source": [
    "gvs"
   ]
  },
  {
   "cell_type": "code",
   "execution_count": null,
   "metadata": {},
   "outputs": [],
   "source": []
  }
 ],
 "metadata": {
  "kernelspec": {
   "display_name": "Python 3",
   "language": "python",
   "name": "python3"
  },
  "language_info": {
   "codemirror_mode": {
    "name": "ipython",
    "version": 3
   },
   "file_extension": ".py",
   "mimetype": "text/x-python",
   "name": "python",
   "nbconvert_exporter": "python",
   "pygments_lexer": "ipython3",
   "version": "3.6.4"
  }
 },
 "nbformat": 4,
 "nbformat_minor": 2
}
