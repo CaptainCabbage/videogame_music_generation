{
 "cells": [
  {
   "cell_type": "code",
   "execution_count": 6,
   "metadata": {},
   "outputs": [
    {
     "ename": "IndentationError",
     "evalue": "unindent does not match any outer indentation level (<ipython-input-6-335f32ec340d>, line 28)",
     "output_type": "error",
     "traceback": [
      "\u001b[0;36m  File \u001b[0;32m\"<ipython-input-6-335f32ec340d>\"\u001b[0;36m, line \u001b[0;32m28\u001b[0m\n\u001b[0;31m    x  = tf.placeholder(tf.float32, [None, num_timesteps, span], name=\"x\")\u001b[0m\n\u001b[0m                                                                           ^\u001b[0m\n\u001b[0;31mIndentationError\u001b[0m\u001b[0;31m:\u001b[0m unindent does not match any outer indentation level\n"
     ]
    }
   ],
   "source": [
    "import tensorflow as tf\n",
    "import numpy as np\n",
    "from tqdm import tqdm\n",
    "import CRBM\n",
    "import input_manipulation\n",
    "\n",
    "\"\"\"\n",
    "\tThis file stores the code for initializing the weights of the RNN-RBM. We initialize the parameters of the RBMs by\n",
    "\ttraining them directly on the data with CD-k. We initialize the parameters of the RNN with small weights.\n",
    "\"\"\"\n",
    "\n",
    "num_epochs = 100 #The number of epochs to train the CRBM\n",
    "lr = 0.0001 #The learning rate for the CRBM\n",
    "\n",
    "\n",
    "num_conv_filters = 8\n",
    "conv_strides = 2\n",
    "span = 123\n",
    "num_timesteps = 32\n",
    "\n",
    "size_conv_filters = 4\n",
    "hidden_width = np.floor((num_timesteps-size_conv_filters)/conv_strides) + 1\n",
    "n_hidden_recurrent = 100\n",
    "def main():\n",
    "\t#Load the Songs\n",
    "\ttf.reset_default_graph()\n",
    "\tsongs = input_manipulation.get_songs('Game_Music_Midi')\n",
    "    x  = tf.placeholder(tf.float32, [None, num_timesteps, span], name=\"x\")\n",
    "    #Testing\n",
    "    batch_size = tf.placeholder(tf.int64, [1], name=\"batch_size\")\n",
    "    #parameters of CRBM\n",
    "    W   = tf.Variable(tf.truncated_normal([size_conv_filters, span, 1, num_conv_filters], 0.001), name=\"W\") #The weight matrix of the RBM\n",
    "    bh  = tf.Variable(tf.zeros([hidden_width,num_conv_filters], tf.float32), name=\"bh\") #The RNN -> RBM hidden bias vector\n",
    "    bv  = tf.Variable(tf.zeros([num_timesteps, span], tf.float32), name=\"bv\")#The RNN -> RBM visible bias vector\n",
    "\n",
    "    #parameters related to RNN\n",
    "    Wuh = tf.Variable(tf.random_normal([n_hidden_recurrent, int(hidden_width*num_conv_filters)], 0.0001), name=\"Wuh\")  #The RNN -> RBM hidden weight matrix\n",
    "    Wuv = tf.Variable(tf.random_normal([n_hidden_recurrent, int(num_timesteps*span)], 0.0001), name=\"Wuv\") #The RNN -> RBM visible weight matrix\n",
    "    Wvu = tf.Variable(tf.random_normal([int(num_timesteps*span), n_hidden_recurrent], 0.0001), name=\"Wvu\") #The data -> RNN weight matrix\n",
    "    Wuu = tf.Variable(tf.random_normal([n_hidden_recurrent, n_hidden_recurrent], 0.0001), name=\"Wuu\") #The RNN hidden unit weight matrix\n",
    "    bu  = tf.Variable(tf.zeros([1, n_hidden_recurrent],  tf.float32), name=\"bu\")   #The RNN hidden unit bias vector\n",
    "    u0  = tf.Variable(tf.zeros([1, n_hidden_recurrent], tf.float32), name=\"u0\") #The initial state of the RNN\n",
    "\n",
    "    #The RBM bias vectors. These matrices will get populated during rnn-rbm training and generation\n",
    "    BH_t = tf.Variable(tf.ones([hidden_width,num_conv_filters],  tf.float32), name=\"BH_t\")\n",
    "    BV_t = tf.Variable(tf.ones([num_timesteps, span],  tf.float32), name=\"BV_t\")\n",
    "\n",
    "    #Build the RBM optimization\n",
    "    saver = tf.train.Saver()\n",
    "\n",
    "\t#Note that we initialize the RNN->RBM bias vectors with the bias vectors of the trained RBM. These vectors will form the templates for the bv_t and\n",
    "\t#bh_t of each RBM that we create when we run the RNN-RBM\n",
    "\tupdt = CRBM.get_cd_update_batch(x, W, bv, bh, 1, lr)\n",
    "\n",
    "\t#Run the session\n",
    "\twith tf.Session() as sess:\n",
    "\t\t#Initialize the variables of the model\n",
    "\t\tinit = tf.global_variables_initializer()\n",
    "\t\tsess.run(init)\n",
    "\n",
    "\t    #Run over each song num_epoch times\n",
    "\t\tfor epoch in tqdm(range(num_epochs)):\n",
    "\t\t\tfor song in songs:\n",
    "\t\t\t\tsess.run(updt, feed_dict={x: song})\n",
    "\n",
    "\t    #Save the initialized model here\n",
    "\t\tsave_path = saver.save(sess, \"parameter_checkpoints/initialized.ckpt\")\n",
    "        \n",
    "if __name__ == \"__main__\":\n",
    "    main()"
   ]
  },
  {
   "cell_type": "code",
   "execution_count": null,
   "metadata": {},
   "outputs": [],
   "source": []
  }
 ],
 "metadata": {
  "kernelspec": {
   "display_name": "Python 3",
   "language": "python",
   "name": "python3"
  },
  "language_info": {
   "codemirror_mode": {
    "name": "ipython",
    "version": 3
   },
   "file_extension": ".py",
   "mimetype": "text/x-python",
   "name": "python",
   "nbconvert_exporter": "python",
   "pygments_lexer": "ipython3",
   "version": "3.6.4"
  }
 },
 "nbformat": 4,
 "nbformat_minor": 2
}
