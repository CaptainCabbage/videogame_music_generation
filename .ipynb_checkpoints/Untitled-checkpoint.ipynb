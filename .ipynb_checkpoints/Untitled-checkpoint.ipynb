{
 "cells": [
  {
   "cell_type": "code",
   "execution_count": 1,
   "metadata": {},
   "outputs": [],
   "source": [
    "import tensorflow as tf\n",
    "import numpy as np\n",
    "from tqdm import tqdm\n",
    "import CRBM\n",
    "import input_manipulation\n",
    "\n",
    "\"\"\"\n",
    "\tThis file stores the code for initializing the weights of the RNN-RBM. We initialize the parameters of the RBMs by\n",
    "\ttraining them directly on the data with CD-k. We initialize the parameters of the RNN with small weights.\n",
    "\"\"\"\n",
    "\n",
    "num_epochs = 100 #The number of epochs to train the CRBM\n",
    "lr = 0.01 #The learning rate for the CRBM\n",
    "\n",
    "\n",
    "num_conv_filters = 8\n",
    "conv_strides = 2\n",
    "span = 123\n",
    "num_timesteps = 32\n",
    "\n",
    "size_conv_filters = 4\n",
    "hidden_width = np.floor((num_timesteps-size_conv_filters)/conv_strides) + 1\n",
    "n_hidden_recurrent = 100\n"
   ]
  },
  {
   "cell_type": "code",
   "execution_count": 12,
   "metadata": {},
   "outputs": [
    {
     "name": "stderr",
     "output_type": "stream",
     "text": [
      "100%|██████████| 45/45 [00:01<00:00, 32.49it/s]\n"
     ]
    }
   ],
   "source": [
    "songs = input_manipulation.get_songs('Game_Music_Midi')\n",
    "\n",
    "x  = tf.placeholder(tf.float32, [num_timesteps, span], name=\"x\") #The placeholder variable that holds our data\n",
    "\n",
    "#Testing\n",
    "batch_size = tf.placeholder(tf.int64, [1], name=\"batch_size\")\n",
    "#parameters of CRBM\n",
    "W   = tf.Variable(tf.random_normal([size_conv_filters, span, 1, num_conv_filters], 0.01), name=\"W\") #The weight matrix of the RBM\n",
    "bh  = tf.Variable(tf.zeros([hidden_width,num_conv_filters], tf.float32), name=\"bh\") #The RNN -> RBM hidden bias vector\n",
    "bv  = tf.Variable(tf.zeros([num_timesteps, span], tf.float32), name=\"bv\")#The RNN -> RBM visible bias vector\n",
    "\n",
    "#parameters related to RNN\n",
    "Wuh = tf.Variable(tf.random_normal([n_hidden_recurrent, int(hidden_width*num_conv_filters)], 0.0001), name=\"Wuh\")  #The RNN -> RBM hidden weight matrix\n",
    "Wuv = tf.Variable(tf.random_normal([n_hidden_recurrent, int(num_timesteps*span)], 0.0001), name=\"Wuv\") #The RNN -> RBM visible weight matrix\n",
    "Wvu = tf.Variable(tf.random_normal([int(num_timesteps*span), n_hidden_recurrent], 0.0001), name=\"Wvu\") #The data -> RNN weight matrix\n",
    "Wuu = tf.Variable(tf.random_normal([n_hidden_recurrent, n_hidden_recurrent], 0.0001), name=\"Wuu\") #The RNN hidden unit weight matrix\n",
    "bu  = tf.Variable(tf.zeros([1, n_hidden_recurrent],  tf.float32), name=\"bu\")   #The RNN hidden unit bias vector\n",
    "u0  = tf.Variable(tf.zeros([1, n_hidden_recurrent], tf.float32), name=\"u0\") #The initial state of the RNN\n",
    "\n",
    "#The RBM bias vectors. These matrices will get populated during rnn-rbm training and generation\n",
    "BH_t = tf.Variable(tf.ones([hidden_width,num_conv_filters],  tf.float32), name=\"BH_t\")\n",
    "BV_t = tf.Variable(tf.ones([num_timesteps, span],  tf.float32), name=\"BV_t\")\n",
    "\n",
    "#Build the RBM optimization\n",
    "saver = tf.train.Saver()"
   ]
  },
  {
   "cell_type": "code",
   "execution_count": 13,
   "metadata": {},
   "outputs": [
    {
     "data": {
      "text/plain": [
       "(32, 123)"
      ]
     },
     "execution_count": 13,
     "metadata": {},
     "output_type": "execute_result"
    }
   ],
   "source": [
    "song = songs[0][0,:,:]\n",
    "song.shape"
   ]
  },
  {
   "cell_type": "code",
   "execution_count": 14,
   "metadata": {},
   "outputs": [
    {
     "data": {
      "text/plain": [
       "array([[0., 0., 0., ..., 1., 0., 0.],\n",
       "       [1., 1., 1., ..., 0., 0., 0.],\n",
       "       [0., 1., 0., ..., 1., 1., 0.],\n",
       "       ...,\n",
       "       [0., 0., 1., ..., 1., 0., 1.],\n",
       "       [0., 0., 1., ..., 1., 1., 1.],\n",
       "       [1., 0., 0., ..., 0., 0., 1.]], dtype=float32)"
      ]
     },
     "execution_count": 14,
     "metadata": {},
     "output_type": "execute_result"
    }
   ],
   "source": [
    "sess = tf.Session()\n",
    "init = tf.global_variables_initializer()\n",
    "sess.run(init)"
   ]
  },
  {
   "cell_type": "code",
   "execution_count": 24,
   "metadata": {},
   "outputs": [],
   "source": [
    "gs = CRBM.gibbs_sample(x, W, bv, bh, 10)\n",
    "x_sample = sess.run(gs, feed_dict={x:song})"
   ]
  },
  {
   "cell_type": "code",
   "execution_count": 25,
   "metadata": {},
   "outputs": [
    {
     "data": {
      "text/plain": [
       "array([[0., 1., 0., ..., 0., 0., 0.],\n",
       "       [0., 0., 0., ..., 1., 0., 0.],\n",
       "       [0., 1., 0., ..., 0., 1., 0.],\n",
       "       ...,\n",
       "       [0., 0., 0., ..., 1., 0., 1.],\n",
       "       [0., 1., 1., ..., 0., 1., 1.],\n",
       "       [1., 1., 1., ..., 1., 1., 1.]], dtype=float32)"
      ]
     },
     "execution_count": 25,
     "metadata": {},
     "output_type": "execute_result"
    }
   ],
   "source": [
    "x_sample"
   ]
  },
  {
   "cell_type": "code",
   "execution_count": 29,
   "metadata": {},
   "outputs": [
    {
     "data": {
      "text/plain": [
       "-2052.0"
      ]
     },
     "execution_count": 29,
     "metadata": {},
     "output_type": "execute_result"
    }
   ],
   "source": [
    "sum(sum(song-x_sample))"
   ]
  },
  {
   "cell_type": "code",
   "execution_count": 35,
   "metadata": {},
   "outputs": [],
   "source": [
    "h_sample = CRBM.crbm_inference(x_sample, W, bh)\n",
    "h = CRBM.crbm_inference(song, W, bh)"
   ]
  },
  {
   "cell_type": "code",
   "execution_count": 36,
   "metadata": {},
   "outputs": [
    {
     "data": {
      "text/plain": [
       "array([[ 0.71566916,  0.18752742, -0.34768224, -0.34198058,  1.2602948 ,\n",
       "         0.4239071 ,  0.4831197 ,  0.83092785],\n",
       "       [ 0.71566916,  0.18752742, -0.34768224, -0.34198058,  1.2602948 ,\n",
       "         0.4239071 ,  0.4831197 ,  0.83092785],\n",
       "       [ 0.71566916,  0.18752742, -0.34768224, -0.34198058,  1.2602948 ,\n",
       "         0.4239071 ,  0.4831197 ,  0.83092785],\n",
       "       [ 3.0173056 ,  2.3149362 ,  0.97044605,  1.5812275 , -1.7198399 ,\n",
       "        -0.57958686, -0.58893   ,  2.6540585 ],\n",
       "       [ 5.1004767 ,  1.4820268 ,  0.07543936,  0.64307356,  6.463602  ,\n",
       "        -1.6956797 ,  0.6888623 ,  0.04951668],\n",
       "       [ 2.7088323 ,  1.2094274 ,  2.693478  , -2.2750654 , -1.028224  ,\n",
       "        -4.0044336 , -1.0212129 , -5.4219894 ],\n",
       "       [ 4.1201043 , -0.6346062 , -0.85693854,  0.04538471,  1.8206699 ,\n",
       "         1.648764  , -1.9534055 ,  2.4111166 ],\n",
       "       [ 2.2835813 ,  4.3705726 , -1.2843188 ,  1.5207521 ,  2.7914424 ,\n",
       "        -0.35044503, -0.01205558, -0.886302  ],\n",
       "       [-0.56505626,  1.4670893 ,  0.7531456 ,  2.260186  ,  1.8747851 ,\n",
       "         0.35510445, -0.9586502 , -1.9045447 ],\n",
       "       [-0.56505626,  1.4670893 ,  0.7531456 ,  2.260186  ,  1.8747851 ,\n",
       "         0.35510445, -0.9586502 , -1.9045447 ],\n",
       "       [-0.56505626,  1.4670893 ,  0.7531456 ,  2.260186  ,  1.8747851 ,\n",
       "         0.35510445, -0.9586502 , -1.9045447 ],\n",
       "       [ 1.736581  ,  3.5944982 ,  2.0712738 ,  4.1833935 , -1.1053495 ,\n",
       "        -0.6483894 , -2.0306997 , -0.08141446],\n",
       "       [ 3.8197508 ,  2.7615886 ,  1.1762671 ,  3.2452404 ,  7.0780926 ,\n",
       "        -1.7644827 , -0.7529075 , -2.6859565 ],\n",
       "       [-0.56505626,  1.4670893 ,  0.7531456 ,  2.260186  ,  1.8747851 ,\n",
       "         0.35510445, -0.9586502 , -1.9045447 ],\n",
       "       [-0.56505626,  1.4670893 ,  0.7531456 ,  2.260186  ,  1.8747851 ,\n",
       "         0.35510445, -0.9586502 , -1.9045447 ]], dtype=float32)"
      ]
     },
     "execution_count": 36,
     "metadata": {},
     "output_type": "execute_result"
    }
   ],
   "source": [
    "sess.run(h_sample)\n",
    "sess.run(h)"
   ]
  },
  {
   "cell_type": "code",
   "execution_count": 38,
   "metadata": {},
   "outputs": [],
   "source": [
    "fc = CRBM.free_energy(x, h, W, bv, bh) - CRBM.free_energy(x_sample, h_sample, W, bv, bh)"
   ]
  },
  {
   "cell_type": "code",
   "execution_count": 54,
   "metadata": {},
   "outputs": [],
   "source": [
    "W_ = tf.multiply(-lr,tf.gradients(fc,W))\n",
    "W_ = sess.run(tf.reshape(W_,W.shape))"
   ]
  },
  {
   "cell_type": "code",
   "execution_count": 55,
   "metadata": {},
   "outputs": [
    {
     "data": {
      "text/plain": [
       "array([[[[-2.9999999e-02, -2.9999999e-02, -2.3373613e-02, ...,\n",
       "          -2.9999999e-02, -2.9999999e-02, -2.9999999e-02]],\n",
       "\n",
       "        [[-1.3000000e-01, -1.3000000e-01, -9.3374066e-02, ...,\n",
       "          -1.3000000e-01, -1.3000000e-01, -1.3000000e-01]],\n",
       "\n",
       "        [[-4.9999997e-02, -4.9999997e-02, -3.9999999e-02, ...,\n",
       "          -4.9999997e-02, -4.9999997e-02, -4.9999997e-02]],\n",
       "\n",
       "        ...,\n",
       "\n",
       "        [[-4.9999997e-02, -4.9999997e-02, -4.9999997e-02, ...,\n",
       "          -4.9999997e-02, -4.9999997e-02, -4.9999997e-02]],\n",
       "\n",
       "        [[-1.1000000e-01, -1.1000000e-01, -8.3374061e-02, ...,\n",
       "          -1.1000000e-01, -1.1000000e-01, -1.1000000e-01]],\n",
       "\n",
       "        [[-1.2000000e-01, -1.2000000e-01, -8.3374061e-02, ...,\n",
       "          -1.2000000e-01, -1.2000000e-01, -1.2000000e-01]]],\n",
       "\n",
       "\n",
       "       [[[-3.9999999e-02, -3.9999999e-02, -3.3373613e-02, ...,\n",
       "          -3.9999999e-02, -3.9999999e-02, -3.9999999e-02]],\n",
       "\n",
       "        [[-9.9999998e-03, -9.9999998e-03, -4.4654871e-07, ...,\n",
       "          -9.9999988e-03, -9.9999998e-03, -9.9999998e-03]],\n",
       "\n",
       "        [[-2.9999999e-02, -2.9999999e-02, -2.3373613e-02, ...,\n",
       "          -2.9999999e-02, -2.9999999e-02, -2.9999999e-02]],\n",
       "\n",
       "        ...,\n",
       "\n",
       "        [[-1.4999999e-01, -1.4999999e-01, -1.1337407e-01, ...,\n",
       "          -1.4999999e-01, -1.4999999e-01, -1.4999999e-01]],\n",
       "\n",
       "        [[-4.9999997e-02, -4.9999997e-02, -4.0000446e-02, ...,\n",
       "          -4.9999997e-02, -4.9999997e-02, -4.9999997e-02]],\n",
       "\n",
       "        [[-1.4000000e-01, -1.4000000e-01, -1.0337407e-01, ...,\n",
       "          -1.4000000e-01, -1.4000000e-01, -1.4000000e-01]]],\n",
       "\n",
       "\n",
       "       [[[-2.9999999e-02, -2.9999999e-02, -2.0000007e-02, ...,\n",
       "          -2.9999999e-02, -2.9999999e-02, -2.9999999e-02]],\n",
       "\n",
       "        [[-1.3000000e-01, -1.3000000e-01, -9.3374066e-02, ...,\n",
       "          -1.3000000e-01, -1.3000000e-01, -1.3000000e-01]],\n",
       "\n",
       "        [[-5.9999999e-02, -5.9999999e-02, -3.3373617e-02, ...,\n",
       "          -5.9999999e-02, -5.9999999e-02, -5.9999999e-02]],\n",
       "\n",
       "        ...,\n",
       "\n",
       "        [[-4.9999997e-02, -4.9999997e-02, -3.9999999e-02, ...,\n",
       "          -4.9999997e-02, -4.9999997e-02, -4.9999997e-02]],\n",
       "\n",
       "        [[-1.2000000e-01, -1.2000000e-01, -9.3374059e-02, ...,\n",
       "          -1.2000000e-01, -1.2000000e-01, -1.2000000e-01]],\n",
       "\n",
       "        [[-1.3000000e-01, -1.3000000e-01, -9.3374066e-02, ...,\n",
       "          -1.3000000e-01, -1.3000000e-01, -1.3000000e-01]]],\n",
       "\n",
       "\n",
       "       [[[-4.9999997e-02, -4.9999997e-02, -4.9999997e-02, ...,\n",
       "          -4.9999997e-02, -4.9999997e-02, -4.9999997e-02]],\n",
       "\n",
       "        [[-2.0000000e-02, -2.0000000e-02, -2.0000000e-02, ...,\n",
       "          -2.0000000e-02, -2.0000000e-02, -2.0000000e-02]],\n",
       "\n",
       "        [[-3.9999999e-02, -3.9999999e-02, -3.0000448e-02, ...,\n",
       "          -3.9999999e-02, -3.9999999e-02, -3.9999999e-02]],\n",
       "\n",
       "        ...,\n",
       "\n",
       "        [[-1.4999999e-01, -1.4999999e-01, -1.1337407e-01, ...,\n",
       "          -1.4999999e-01, -1.4999999e-01, -1.4999999e-01]],\n",
       "\n",
       "        [[-5.9999999e-02, -5.9999999e-02, -5.9999999e-02, ...,\n",
       "          -5.9999999e-02, -5.9999999e-02, -5.9999999e-02]],\n",
       "\n",
       "        [[-1.4999999e-01, -1.4999999e-01, -1.1337407e-01, ...,\n",
       "          -1.4999999e-01, -1.4999999e-01, -1.4999999e-01]]]],\n",
       "      dtype=float32)"
      ]
     },
     "execution_count": 55,
     "metadata": {},
     "output_type": "execute_result"
    }
   ],
   "source": [
    "W_"
   ]
  },
  {
   "cell_type": "code",
   "execution_count": 47,
   "metadata": {},
   "outputs": [],
   "source": [
    "size_bt = tf.cast(tf.shape(song[1])[0],tf.float32)"
   ]
  },
  {
   "cell_type": "code",
   "execution_count": 48,
   "metadata": {},
   "outputs": [
    {
     "data": {
      "text/plain": [
       "<tf.Tensor 'Cast:0' shape=() dtype=float32>"
      ]
     },
     "execution_count": 48,
     "metadata": {},
     "output_type": "execute_result"
    }
   ],
   "source": [
    "size_bt"
   ]
  },
  {
   "cell_type": "code",
   "execution_count": 50,
   "metadata": {},
   "outputs": [
    {
     "data": {
      "text/plain": [
       "123.0"
      ]
     },
     "execution_count": 50,
     "metadata": {},
     "output_type": "execute_result"
    }
   ],
   "source": [
    "sess.run(size_bt)"
   ]
  },
  {
   "cell_type": "code",
   "execution_count": 51,
   "metadata": {},
   "outputs": [],
   "source": [
    "W_ = tf.Print(W_,[W_])"
   ]
  },
  {
   "cell_type": "code",
   "execution_count": 52,
   "metadata": {},
   "outputs": [
    {
     "data": {
      "text/plain": [
       "<tf.Tensor 'Print:0' shape=(4, 123, 1, 8) dtype=float32>"
      ]
     },
     "execution_count": 52,
     "metadata": {},
     "output_type": "execute_result"
    }
   ],
   "source": [
    "W_"
   ]
  },
  {
   "cell_type": "code",
   "execution_count": 53,
   "metadata": {},
   "outputs": [
    {
     "data": {
      "text/plain": [
       "array([[[[-2.9999999e-02, -2.9999999e-02, -2.3373613e-02, ...,\n",
       "          -2.9999999e-02, -2.9999999e-02, -2.9999999e-02]],\n",
       "\n",
       "        [[-1.3000000e-01, -1.3000000e-01, -9.3374066e-02, ...,\n",
       "          -1.3000000e-01, -1.3000000e-01, -1.3000000e-01]],\n",
       "\n",
       "        [[-4.9999997e-02, -4.9999997e-02, -3.9999999e-02, ...,\n",
       "          -4.9999997e-02, -4.9999997e-02, -4.9999997e-02]],\n",
       "\n",
       "        ...,\n",
       "\n",
       "        [[-4.9999997e-02, -4.9999997e-02, -4.9999997e-02, ...,\n",
       "          -4.9999997e-02, -4.9999997e-02, -4.9999997e-02]],\n",
       "\n",
       "        [[-1.1000000e-01, -1.1000000e-01, -8.3374061e-02, ...,\n",
       "          -1.1000000e-01, -1.1000000e-01, -1.1000000e-01]],\n",
       "\n",
       "        [[-1.2000000e-01, -1.2000000e-01, -8.3374061e-02, ...,\n",
       "          -1.2000000e-01, -1.2000000e-01, -1.2000000e-01]]],\n",
       "\n",
       "\n",
       "       [[[-3.9999999e-02, -3.9999999e-02, -3.3373613e-02, ...,\n",
       "          -3.9999999e-02, -3.9999999e-02, -3.9999999e-02]],\n",
       "\n",
       "        [[-9.9999998e-03, -9.9999998e-03, -4.4654871e-07, ...,\n",
       "          -9.9999988e-03, -9.9999998e-03, -9.9999998e-03]],\n",
       "\n",
       "        [[-2.9999999e-02, -2.9999999e-02, -2.3373613e-02, ...,\n",
       "          -2.9999999e-02, -2.9999999e-02, -2.9999999e-02]],\n",
       "\n",
       "        ...,\n",
       "\n",
       "        [[-1.4999999e-01, -1.4999999e-01, -1.1337407e-01, ...,\n",
       "          -1.4999999e-01, -1.4999999e-01, -1.4999999e-01]],\n",
       "\n",
       "        [[-4.9999997e-02, -4.9999997e-02, -4.0000446e-02, ...,\n",
       "          -4.9999997e-02, -4.9999997e-02, -4.9999997e-02]],\n",
       "\n",
       "        [[-1.4000000e-01, -1.4000000e-01, -1.0337407e-01, ...,\n",
       "          -1.4000000e-01, -1.4000000e-01, -1.4000000e-01]]],\n",
       "\n",
       "\n",
       "       [[[-2.9999999e-02, -2.9999999e-02, -2.0000007e-02, ...,\n",
       "          -2.9999999e-02, -2.9999999e-02, -2.9999999e-02]],\n",
       "\n",
       "        [[-1.3000000e-01, -1.3000000e-01, -9.3374066e-02, ...,\n",
       "          -1.3000000e-01, -1.3000000e-01, -1.3000000e-01]],\n",
       "\n",
       "        [[-5.9999999e-02, -5.9999999e-02, -3.3373617e-02, ...,\n",
       "          -5.9999999e-02, -5.9999999e-02, -5.9999999e-02]],\n",
       "\n",
       "        ...,\n",
       "\n",
       "        [[-4.9999997e-02, -4.9999997e-02, -3.9999999e-02, ...,\n",
       "          -4.9999997e-02, -4.9999997e-02, -4.9999997e-02]],\n",
       "\n",
       "        [[-1.2000000e-01, -1.2000000e-01, -9.3374059e-02, ...,\n",
       "          -1.2000000e-01, -1.2000000e-01, -1.2000000e-01]],\n",
       "\n",
       "        [[-1.3000000e-01, -1.3000000e-01, -9.3374066e-02, ...,\n",
       "          -1.3000000e-01, -1.3000000e-01, -1.3000000e-01]]],\n",
       "\n",
       "\n",
       "       [[[-4.9999997e-02, -4.9999997e-02, -4.9999997e-02, ...,\n",
       "          -4.9999997e-02, -4.9999997e-02, -4.9999997e-02]],\n",
       "\n",
       "        [[-2.0000000e-02, -2.0000000e-02, -2.0000000e-02, ...,\n",
       "          -2.0000000e-02, -2.0000000e-02, -2.0000000e-02]],\n",
       "\n",
       "        [[-3.9999999e-02, -3.9999999e-02, -3.0000448e-02, ...,\n",
       "          -3.9999999e-02, -3.9999999e-02, -3.9999999e-02]],\n",
       "\n",
       "        ...,\n",
       "\n",
       "        [[-1.4999999e-01, -1.4999999e-01, -1.1337407e-01, ...,\n",
       "          -1.4999999e-01, -1.4999999e-01, -1.4999999e-01]],\n",
       "\n",
       "        [[-5.9999999e-02, -5.9999999e-02, -5.9999999e-02, ...,\n",
       "          -5.9999999e-02, -5.9999999e-02, -5.9999999e-02]],\n",
       "\n",
       "        [[-1.4999999e-01, -1.4999999e-01, -1.1337407e-01, ...,\n",
       "          -1.4999999e-01, -1.4999999e-01, -1.4999999e-01]]]],\n",
       "      dtype=float32)"
      ]
     },
     "execution_count": 53,
     "metadata": {},
     "output_type": "execute_result"
    }
   ],
   "source": [
    "sess.run(W_)"
   ]
  },
  {
   "cell_type": "code",
   "execution_count": null,
   "metadata": {},
   "outputs": [],
   "source": []
  }
 ],
 "metadata": {
  "kernelspec": {
   "display_name": "Python 3",
   "language": "python",
   "name": "python3"
  },
  "language_info": {
   "codemirror_mode": {
    "name": "ipython",
    "version": 3
   },
   "file_extension": ".py",
   "mimetype": "text/x-python",
   "name": "python",
   "nbconvert_exporter": "python",
   "pygments_lexer": "ipython3",
   "version": "3.6.4"
  }
 },
 "nbformat": 4,
 "nbformat_minor": 2
}
